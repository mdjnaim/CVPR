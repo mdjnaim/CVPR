{
  "nbformat": 4,
  "nbformat_minor": 0,
  "metadata": {
    "colab": {
      "provenance": []
    },
    "kernelspec": {
      "name": "python3",
      "display_name": "Python 3"
    },
    "language_info": {
      "name": "python"
    }
  },
  "cells": [
    {
      "cell_type": "code",
      "execution_count": 30,
      "metadata": {
        "id": "Kg7kd5l2Z4gX"
      },
      "outputs": [],
      "source": [
        "import numpy as np\n",
        "import matplotlib.pyplot as plt\n",
        "import seaborn as sns\n",
        "np.random.seed(42)"
      ]
    },
    {
      "cell_type": "markdown",
      "source": [
        "Dataset generation"
      ],
      "metadata": {
        "id": "biVUU2jmaGNS"
      }
    },
    {
      "cell_type": "code",
      "source": [
        "def generate_data(samples_per_class=200):\n",
        "    X = []\n",
        "    y = []\n",
        "    for class_num in range(5):\n",
        "        mean = np.random.uniform(-5, 5, 2)\n",
        "        cov = np.eye(2) * np.random.uniform(0.5, 1.5)\n",
        "        Xi = np.random.multivariate_normal(mean, cov, samples_per_class)\n",
        "        yi = np.full(samples_per_class, class_num)\n",
        "        X.append(Xi)\n",
        "        y.append(yi)\n",
        "    return np.vstack(X), np.hstack(y)\n",
        "\n",
        "def one_hot(y, num_classes):\n",
        "    return np.eye(num_classes)[y]"
      ],
      "metadata": {
        "id": "A0bk9Zo1aF0r"
      },
      "execution_count": 31,
      "outputs": []
    },
    {
      "cell_type": "markdown",
      "source": [
        "Activation functions and derivatives"
      ],
      "metadata": {
        "id": "r-CstoKKaWvm"
      }
    },
    {
      "cell_type": "code",
      "source": [
        "def relu(z):\n",
        "    return np.maximum(0, z)\n",
        "\n",
        "def relu_derivative(z):\n",
        "    return (z > 0).astype(float)\n",
        "\n",
        "def softmax(z):\n",
        "    exp_z = np.exp(z - np.max(z, axis=1, keepdims=True))  # stability\n",
        "    return exp_z / np.sum(exp_z, axis=1, keepdims=True)"
      ],
      "metadata": {
        "id": "LUCrwDBgaZLg"
      },
      "execution_count": 32,
      "outputs": []
    },
    {
      "cell_type": "markdown",
      "source": [
        "Loss function"
      ],
      "metadata": {
        "id": "Wu4A0u4XacNC"
      }
    },
    {
      "cell_type": "code",
      "source": [
        "def cross_entropy(pred, true):\n",
        "    m = true.shape[0]\n",
        "    loss = -np.sum(true * np.log(pred + 1e-9)) / m\n",
        "    return loss"
      ],
      "metadata": {
        "id": "_gxkVLaHaej-"
      },
      "execution_count": 33,
      "outputs": []
    },
    {
      "cell_type": "markdown",
      "source": [
        "Accuracy"
      ],
      "metadata": {
        "id": "_94Dl-LRaheT"
      }
    },
    {
      "cell_type": "code",
      "source": [
        "def accuracy(y_true, y_pred):\n",
        "    return np.mean(y_true == y_pred)"
      ],
      "metadata": {
        "id": "CjaU_G1Caj4S"
      },
      "execution_count": 34,
      "outputs": []
    },
    {
      "cell_type": "markdown",
      "source": [
        "Neural Network class"
      ],
      "metadata": {
        "id": "TFYhA1_gamXV"
      }
    },
    {
      "cell_type": "code",
      "source": [
        "class NeuralNetwork:\n",
        "    def __init__(self, input_size, hidden_sizes, output_size, learning_rate=0.01):\n",
        "        self.lr = learning_rate\n",
        "        self.params = {\n",
        "            \"W1\": np.random.randn(input_size, hidden_sizes[0]) * 0.1,\n",
        "            \"b1\": np.zeros((1, hidden_sizes[0])),\n",
        "            \"W2\": np.random.randn(hidden_sizes[0], hidden_sizes[1]) * 0.1,\n",
        "            \"b2\": np.zeros((1, hidden_sizes[1])),\n",
        "            \"W3\": np.random.randn(hidden_sizes[1], hidden_sizes[2]) * 0.1,\n",
        "            \"b3\": np.zeros((1, hidden_sizes[2])),\n",
        "            \"W4\": np.random.randn(hidden_sizes[2], output_size) * 0.1,\n",
        "            \"b4\": np.zeros((1, output_size))\n",
        "        }\n",
        "\n",
        "    def forward(self, X):\n",
        "        z1 = X @ self.params[\"W1\"] + self.params[\"b1\"]\n",
        "        a1 = relu(z1)\n",
        "        z2 = a1 @ self.params[\"W2\"] + self.params[\"b2\"]\n",
        "        a2 = relu(z2)\n",
        "        z3 = a2 @ self.params[\"W3\"] + self.params[\"b3\"]\n",
        "        a3 = relu(z3)\n",
        "        z4 = a3 @ self.params[\"W4\"] + self.params[\"b4\"]\n",
        "        a4 = softmax(z4)\n",
        "        return z1, a1, z2, a2, z3, a3, z4, a4\n",
        "\n",
        "    def backward(self, X, y_true, cache):\n",
        "        z1, a1, z2, a2, z3, a3, z4, a4 = cache\n",
        "        m = X.shape[0]\n",
        "\n",
        "        dz4 = a4 - y_true\n",
        "        dW4 = (a3.T @ dz4) / m\n",
        "        db4 = np.sum(dz4, axis=0, keepdims=True) / m\n",
        "\n",
        "        dz3 = (dz4 @ self.params[\"W4\"].T) * relu_derivative(z3)\n",
        "        dW3 = (a2.T @ dz3) / m\n",
        "        db3 = np.sum(dz3, axis=0, keepdims=True) / m\n",
        "\n",
        "        dz2 = (dz3 @ self.params[\"W3\"].T) * relu_derivative(z2)\n",
        "        dW2 = (a1.T @ dz2) / m\n",
        "        db2 = np.sum(dz2, axis=0, keepdims=True) / m\n",
        "\n",
        "        dz1 = (dz2 @ self.params[\"W2\"].T) * relu_derivative(z1)\n",
        "        dW1 = (X.T @ dz1) / m\n",
        "        db1 = np.sum(dz1, axis=0, keepdims=True) / m\n",
        "\n",
        "        # Update weights\n",
        "        self.params[\"W1\"] -= self.lr * dW1\n",
        "        self.params[\"b1\"] -= self.lr * db1\n",
        "        self.params[\"W2\"] -= self.lr * dW2\n",
        "        self.params[\"b2\"] -= self.lr * db2\n",
        "        self.params[\"W3\"] -= self.lr * dW3\n",
        "        self.params[\"b3\"] -= self.lr * db3\n",
        "        self.params[\"W4\"] -= self.lr * dW4\n",
        "        self.params[\"b4\"] -= self.lr * db4\n",
        "\n",
        "    def train(self, X, y, epochs=1000):\n",
        "        losses = []\n",
        "        for epoch in range(epochs):\n",
        "            cache = self.forward(X)\n",
        "            loss = cross_entropy(cache[-1], y)\n",
        "            losses.append(loss)\n",
        "            self.backward(X, y, cache)\n",
        "            if (epoch + 1) % 100 == 0:\n",
        "                print(f\"Epoch {epoch+1}/{epochs}, Loss: {loss:.4f}\")\n",
        "        return losses\n",
        "\n",
        "    def predict(self, X):\n",
        "        _, _, _, _, _, _, _, a4 = self.forward(X)\n",
        "        return np.argmax(a4, axis=1)"
      ],
      "metadata": {
        "id": "Mhkg1UeOaosz"
      },
      "execution_count": 35,
      "outputs": []
    },
    {
      "cell_type": "markdown",
      "source": [
        "Main flow"
      ],
      "metadata": {
        "id": "aRjUWQzxa-VK"
      }
    },
    {
      "cell_type": "code",
      "source": [
        "X, y = generate_data(samples_per_class=200)\n",
        "y_onehot = one_hot(y, 5)"
      ],
      "metadata": {
        "id": "UItlSdXFbBFj"
      },
      "execution_count": 36,
      "outputs": []
    },
    {
      "cell_type": "markdown",
      "source": [
        "Shuffle and split"
      ],
      "metadata": {
        "id": "4y9UcX9FbEVG"
      }
    },
    {
      "cell_type": "code",
      "source": [
        "indices = np.random.permutation(X.shape[0])\n",
        "split = int(0.8 * len(indices))\n",
        "train_idx, test_idx = indices[:split], indices[split:]\n",
        "\n",
        "X_train, y_train = X[train_idx], y_onehot[train_idx]\n",
        "X_test, y_test = X[test_idx], y[test_idx]\n",
        "\n",
        "nn = NeuralNetwork(input_size=2, hidden_sizes=[64, 32, 16], output_size=5, learning_rate=0.01)\n",
        "losses = nn.train(X_train, y_train, epochs=1000)"
      ],
      "metadata": {
        "colab": {
          "base_uri": "https://localhost:8080/"
        },
        "id": "URZsdh6HbGz7",
        "outputId": "5f12465d-aea3-4db8-80b9-bc28fc7d3030"
      },
      "execution_count": 37,
      "outputs": [
        {
          "output_type": "stream",
          "name": "stdout",
          "text": [
            "Epoch 100/1000, Loss: 1.5832\n",
            "Epoch 200/1000, Loss: 1.5428\n",
            "Epoch 300/1000, Loss: 1.4457\n",
            "Epoch 400/1000, Loss: 1.2227\n",
            "Epoch 500/1000, Loss: 0.9986\n",
            "Epoch 600/1000, Loss: 0.8582\n",
            "Epoch 700/1000, Loss: 0.7506\n",
            "Epoch 800/1000, Loss: 0.6575\n",
            "Epoch 900/1000, Loss: 0.5782\n",
            "Epoch 1000/1000, Loss: 0.5127\n"
          ]
        }
      ]
    },
    {
      "cell_type": "markdown",
      "source": [
        "Evaluate"
      ],
      "metadata": {
        "id": "ni65JjZ4bKT5"
      }
    },
    {
      "cell_type": "code",
      "source": [
        "y_pred = nn.predict(X_test)\n",
        "acc = accuracy(y_test, y_pred)\n",
        "print(f\"Test Accuracy: {acc:.4f}\")"
      ],
      "metadata": {
        "colab": {
          "base_uri": "https://localhost:8080/"
        },
        "id": "7iBZ84eubMsU",
        "outputId": "7ffcc6a1-40f7-4e26-b41e-c1f68cc07a14"
      },
      "execution_count": 38,
      "outputs": [
        {
          "output_type": "stream",
          "name": "stdout",
          "text": [
            "Test Accuracy: 0.8000\n"
          ]
        }
      ]
    },
    {
      "cell_type": "markdown",
      "source": [
        "Plot loss"
      ],
      "metadata": {
        "id": "mjIqHgxAbPYa"
      }
    },
    {
      "cell_type": "code",
      "source": [
        "plt.plot(losses)\n",
        "plt.title(\"Training Loss over Epochs\")\n",
        "plt.xlabel(\"Epoch\")\n",
        "plt.ylabel(\"Loss\")\n",
        "plt.grid(True)\n",
        "plt.show()"
      ],
      "metadata": {
        "colab": {
          "base_uri": "https://localhost:8080/",
          "height": 472
        },
        "id": "ueY-WqumbTaU",
        "outputId": "b1e19649-f27a-4ab6-9905-bc58765f7e42"
      },
      "execution_count": 39,
      "outputs": [
        {
          "output_type": "display_data",
          "data": {
            "text/plain": [
              "<Figure size 640x480 with 1 Axes>"
            ],
            "image/png": "[encoded data removed]"
          },
          "metadata": {}
        }
      ]
    },
    {
      "cell_type": "code",
      "source": [
        "y_pred = nn.predict(X_test)\n",
        "acc = accuracy(y_test, y_pred)\n",
        "print(f\"Test Accuracy: {acc:.4f}\")\n",
        "# Compute confusion matrix\n",
        "conf_matrix = np.zeros((5, 5), dtype=int)\n",
        "for true_label, pred_label in zip(y_test, y_pred):\n",
        "    conf_matrix[true_label][pred_label] += 1\n",
        "\n",
        "# Compute precision, recall, F1-score\n",
        "def classification_report_manual(y_true, y_pred, num_classes=5):\n",
        "    report = {}\n",
        "    for c in range(num_classes):\n",
        "        tp = np.sum((y_pred == c) & (y_true == c))\n",
        "        fp = np.sum((y_pred == c) & (y_true != c))\n",
        "        fn = np.sum((y_pred != c) & (y_true == c))\n",
        "\n",
        "        precision = tp / (tp + fp + 1e-9)\n",
        "        recall = tp / (tp + fn + 1e-9)\n",
        "        f1 = 2 * precision * recall / (precision + recall + 1e-9)\n",
        "\n",
        "        report[f\"Class {c}\"] = {\n",
        "            \"Precision\": round(precision, 4),\n",
        "            \"Recall\": round(recall, 4),\n",
        "            \"F1-score\": round(f1, 4),\n",
        "            \"Support\": int(np.sum(y_true == c))\n",
        "        }\n",
        "\n",
        "    return report\n",
        "\n",
        "report = classification_report_manual(y_test, y_pred)\n",
        "\n",
        "print(\"\\nClassification Report:\")\n",
        "for cls, metrics in report.items():\n",
        "    print(f\"{cls}: \", end=\"\")\n",
        "    print(\", \".join([f\"{k} = {v}\" for k, v in metrics.items()]))\n",
        "\n",
        "# Plot confusion matrix\n",
        "plt.figure(figsize=(8, 6))\n",
        "sns.heatmap(conf_matrix, annot=True, fmt=\"d\", cmap=\"Blues\",\n",
        "            xticklabels=[f\"Class {i}\" for i in range(5)],\n",
        "            yticklabels=[f\"Class {i}\" for i in range(5)])\n",
        "plt.xlabel(\"Predicted Label\")\n",
        "plt.ylabel(\"True Label\")\n",
        "plt.title(\"Confusion Matrix\")\n",
        "plt.show()\n"
      ],
      "metadata": {
        "colab": {
          "base_uri": "https://localhost:8080/",
          "height": 703
        },
        "id": "7P-z9YpMcSXU",
        "outputId": "38fc71b2-3b34-4c5a-f79d-82cdba7f7809"
      },
      "execution_count": 40,
      "outputs": [
        {
          "output_type": "stream",
          "name": "stdout",
          "text": [
            "Test Accuracy: 0.8000\n",
            "\n",
            "Classification Report:\n",
            "Class 0: Precision = 0.6667, Recall = 0.85, F1-score = 0.7473, Support = 40\n",
            "Class 1: Precision = 1.0, Recall = 1.0, F1-score = 1.0, Support = 31\n",
            "Class 2: Precision = 1.0, Recall = 1.0, F1-score = 1.0, Support = 31\n",
            "Class 3: Precision = 0.6571, Recall = 0.451, F1-score = 0.5349, Support = 51\n",
            "Class 4: Precision = 0.7885, Recall = 0.8723, F1-score = 0.8283, Support = 47\n"
          ]
        },
        {
          "output_type": "display_data",
          "data": {
            "text/plain": [
              "<Figure size 800x600 with 2 Axes>"
            ],
            "image/png": "[encoded data removed]"
          },
          "metadata": {}
        }
      ]
    }
  ]
}